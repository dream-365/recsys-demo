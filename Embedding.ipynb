{
 "cells": [
  {
   "cell_type": "markdown",
   "id": "89376b41-bc8b-421c-8a40-3684abfce8e4",
   "metadata": {},
   "source": [
    "# Embedding\n",
    "\n",
    "## Data Prepare\n",
    "### 1. Download sample data"
   ]
  },
  {
   "cell_type": "code",
   "execution_count": null,
   "id": "7e3c8b6c-77bc-4017-8885-4fd9d8b65d3e",
   "metadata": {},
   "outputs": [],
   "source": [
    "import requests\n",
    "\n",
    "def download_file(url, save_path):\n",
    "    response = requests.get(url)\n",
    "    with open(save_path, 'wb') as file:\n",
    "        file.write(response.content)\n",
    "\n",
    "url = 'https://raw.githubusercontent.com/dream-365/SparrowRecSys/master/src/main/resources/webroot/sampledata/ratings.csv'\n",
    "save_path = 'ratings.csv'\n",
    "\n",
    "download_file(url, save_path)"
   ]
  },
  {
   "cell_type": "code",
   "execution_count": null,
   "id": "5b5f3274-d9ff-4433-9424-c34eb31c9ab5",
   "metadata": {},
   "outputs": [],
   "source": [
    "from pyspark import SparkConf\n",
    "from pyspark.sql import SparkSession\n",
    "import pandas as pd\n",
    "import Embedding\n",
    "\n",
    "conf = SparkConf().setAppName('ctrModel').setMaster('local[4]')\n",
    "spark = SparkSession.builder.config(conf=conf).getOrCreate()\n",
    "\n",
    "rawSampleDataPath = \"ratings.csv\"\n",
    "embLength = 10"
   ]
  },
  {
   "cell_type": "markdown",
   "id": "a66d1b10-cf6f-4a51-817c-cf683911148d",
   "metadata": {},
   "source": [
    "## Item Embedding"
   ]
  },
  {
   "cell_type": "code",
   "execution_count": null,
   "id": "6069a3c6-21ac-4942-94f2-72273fe8e7c1",
   "metadata": {},
   "outputs": [],
   "source": [
    "user_watching_seqs = Embedding.processItemSequence(spark, rawSampleDataPath)\n",
    "\n",
    "# samples preview\n",
    "pd.DataFrame(user_watching_seqs.take(100))"
   ]
  },
  {
   "cell_type": "markdown",
   "id": "32485fe0-90be-4085-b866-926e2ba1818d",
   "metadata": {},
   "source": [
    "### Item2Vec"
   ]
  },
  {
   "cell_type": "code",
   "execution_count": null,
   "id": "921bc8e5-560a-4d76-8468-19b267ceaf97",
   "metadata": {},
   "outputs": [],
   "source": [
    "item_emb_model = Embedding.trainItem2vec(spark, user_watching_seqs, embLength,\n",
    "                          embOutputPath=\"emb/item2vecEmb.csv\", saveToRedis=False,\n",
    "                          redisKeyPrefix=\"i2vEmb\")"
   ]
  },
  {
   "cell_type": "code",
   "execution_count": null,
   "id": "c235d4ee-7b1b-4391-a047-11dfa2969b90",
   "metadata": {},
   "outputs": [],
   "source": [
    "# search top 5 similar movies with movie id \"99\" by cosine similarity\n",
    "synonyms = item_emb_model.findSynonyms(\"99\", 5)\n",
    "for synonym, cosineSimilarity in synonyms:\n",
    "        print(synonym, cosineSimilarity)"
   ]
  },
  {
   "cell_type": "markdown",
   "id": "635255f6-ba8c-4cc9-b2bf-c5c749291fd7",
   "metadata": {},
   "source": [
    "### Graph Embedding"
   ]
  },
  {
   "cell_type": "code",
   "execution_count": null,
   "id": "043c8885-2eae-4bc3-8e6b-08ed97545eec",
   "metadata": {},
   "outputs": [],
   "source": [
    "item_graphemb_model = Embedding.graphEmb(user_watching_seqs, spark, embLength, \n",
    "                                         embOutputFilename=\"emb/itemGraphEmb.csv\",\n",
    "                                         saveToRedis=True, redisKeyPrefix=\"graphEmb\")"
   ]
  },
  {
   "cell_type": "code",
   "execution_count": null,
   "id": "55a2c054-1c07-474b-ae00-aa8a6dab17df",
   "metadata": {},
   "outputs": [],
   "source": [
    "synonyms = item_graphemb_model.findSynonyms(\"99\", 5)\n",
    "for synonym, cosineSimilarity in synonyms:\n",
    "        print(synonym, cosineSimilarity)"
   ]
  },
  {
   "cell_type": "code",
   "execution_count": null,
   "id": "041f09e2-20e0-45bb-a14d-93006fb34167",
   "metadata": {},
   "outputs": [],
   "source": [
    "Embedding.generateUserEmb(spark, rawSampleDataPath, model, embLength,\n",
    "                    embOutputPath=\"emb/userEmb.csv\", saveToRedis=False,\n",
    "                    redisKeyPrefix=\"uEmb\")"
   ]
  },
  {
   "cell_type": "markdown",
   "id": "1b467e4b-e470-4e7e-8d63-612260ff0845",
   "metadata": {},
   "source": [
    "## User Embedding "
   ]
  },
  {
   "cell_type": "code",
   "execution_count": null,
   "id": "2a002c8b-5e74-4482-a9ef-9f29e21ace29",
   "metadata": {},
   "outputs": [],
   "source": [
    "from pyspark.sql.types import *\n",
    "\n",
    "user_ratting_samples = spark.read.format(\"csv\").option(\"header\", \"true\").load(rawSampleDataPath)\n",
    "vectors_list = []\n",
    "for key, value in item_emb_model.getVectors().items():\n",
    "    vectors_list.append((key, list(value)))\n",
    "    fields = [\n",
    "        StructField('movieId', StringType(), False),\n",
    "        StructField('emb', ArrayType(FloatType()), False)\n",
    "    ]\n",
    "\n",
    "schema = StructType(fields)\n",
    "vectors_df = spark.createDataFrame(vectors_list, schema=schema)\n",
    "user_ratting_samples = user_ratting_samples.join(vectors_df, on='movieId', how='inner')\n",
    "\n",
    "pd.DataFrame(user_ratting_samples.take(5))"
   ]
  },
  {
   "cell_type": "code",
   "execution_count": null,
   "id": "bb846319-a50c-4b75-8f12-7c3b3dab1788",
   "metadata": {},
   "outputs": [],
   "source": [
    "user_ratting_samples_pair = user_ratting_samples.select('userId', 'emb').rdd.map(lambda x: (x[0], x[1]))\n",
    "pd.DataFrame(user_ratting_samples_pair.take(5))"
   ]
  },
  {
   "cell_type": "code",
   "execution_count": null,
   "id": "cdd2e4e5-9068-41e9-aad1-f2c9d3ff94bd",
   "metadata": {},
   "outputs": [],
   "source": [
    "# acculate user rated movie ebm as user emb\n",
    "user_emb = user_ratting_samples_pair.reduceByKey(lambda a, b: [a[i] + b[i] for i in range(len(a))])\n",
    "\n",
    "pd.DataFrame(user_emb.take(5))"
   ]
  },
  {
   "cell_type": "code",
   "execution_count": null,
   "id": "c98e276c-86d8-4042-883a-8714033cfaa2",
   "metadata": {},
   "outputs": [],
   "source": []
  }
 ],
 "metadata": {
  "kernelspec": {
   "display_name": "Python 3 (ipykernel)",
   "language": "python",
   "name": "python3"
  },
  "language_info": {
   "codemirror_mode": {
    "name": "ipython",
    "version": 3
   },
   "file_extension": ".py",
   "mimetype": "text/x-python",
   "name": "python",
   "nbconvert_exporter": "python",
   "pygments_lexer": "ipython3",
   "version": "3.10.13"
  }
 },
 "nbformat": 4,
 "nbformat_minor": 5
}
