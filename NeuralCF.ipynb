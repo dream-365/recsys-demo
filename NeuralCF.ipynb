{
 "cells": [
  {
   "cell_type": "markdown",
   "id": "6abbdad6-28f0-4491-acae-a5f4682a8686",
   "metadata": {},
   "source": [
    "### Download trainning and test data"
   ]
  },
  {
   "cell_type": "code",
   "execution_count": 1,
   "id": "ecda4dd7-08bc-4cf4-a311-438a4c71f130",
   "metadata": {},
   "outputs": [
    {
     "name": "stderr",
     "output_type": "stream",
     "text": [
      "2024-02-26 09:20:17.201729: I tensorflow/core/util/port.cc:113] oneDNN custom operations are on. You may see slightly different numerical results due to floating-point round-off errors from different computation orders. To turn them off, set the environment variable `TF_ENABLE_ONEDNN_OPTS=0`.\n",
      "2024-02-26 09:20:17.205299: I external/local_tsl/tsl/cuda/cudart_stub.cc:31] Could not find cuda drivers on your machine, GPU will not be used.\n",
      "2024-02-26 09:20:17.246297: E external/local_xla/xla/stream_executor/cuda/cuda_dnn.cc:9261] Unable to register cuDNN factory: Attempting to register factory for plugin cuDNN when one has already been registered\n",
      "2024-02-26 09:20:17.246329: E external/local_xla/xla/stream_executor/cuda/cuda_fft.cc:607] Unable to register cuFFT factory: Attempting to register factory for plugin cuFFT when one has already been registered\n",
      "2024-02-26 09:20:17.247511: E external/local_xla/xla/stream_executor/cuda/cuda_blas.cc:1515] Unable to register cuBLAS factory: Attempting to register factory for plugin cuBLAS when one has already been registered\n",
      "2024-02-26 09:20:17.254060: I external/local_tsl/tsl/cuda/cudart_stub.cc:31] Could not find cuda drivers on your machine, GPU will not be used.\n",
      "2024-02-26 09:20:17.254520: I tensorflow/core/platform/cpu_feature_guard.cc:182] This TensorFlow binary is optimized to use available CPU instructions in performance-critical operations.\n",
      "To enable the following instructions: AVX2 AVX512F AVX512_VNNI FMA, in other operations, rebuild TensorFlow with the appropriate compiler flags.\n",
      "2024-02-26 09:20:18.103947: W tensorflow/compiler/tf2tensorrt/utils/py_utils.cc:38] TF-TRT Warning: Could not find TensorRT\n"
     ]
    },
    {
     "name": "stdout",
     "output_type": "stream",
     "text": [
      "Downloading data from https://raw.githubusercontent.com/dream-365/SparrowRecSys/master/src/main/resources/webroot/sampledata/trainingSamples.csv\n",
      "12812426/12812426 [==============================] - 0s 0us/step\n",
      "Downloading data from https://raw.githubusercontent.com/dream-365/SparrowRecSys/master/src/main/resources/webroot/sampledata/testSamples.csv\n",
      "3237311/3237311 [==============================] - 0s 0us/step\n"
     ]
    }
   ],
   "source": [
    "import tensorflow as tf\n",
    "\n",
    "training_samples_file_path = tf.keras.utils.get_file(\"trainingSamples.csv\",\n",
    "                                                     \"https://raw.githubusercontent.com/dream-365/SparrowRecSys/master/src/main/\"\n",
    "                                                     \"resources/webroot/sampledata/trainingSamples.csv\")\n",
    "\n",
    "test_samples_file_path = tf.keras.utils.get_file(\"testSamples.csv\",\n",
    "                                                 \"https://raw.githubusercontent.com/dream-365/SparrowRecSys/master/src/main/\"\n",
    "                                                 \"resources/webroot/sampledata/testSamples.csv\")\n"
   ]
  },
  {
   "cell_type": "markdown",
   "id": "dbb7af9b-1768-42ea-ba11-5ccc5c7d82c9",
   "metadata": {},
   "source": [
    "### Traning data preview"
   ]
  },
  {
   "cell_type": "code",
   "execution_count": 2,
   "id": "cf9a20b3-b675-44f1-91d3-bd5c0b1266ba",
   "metadata": {},
   "outputs": [
    {
     "data": {
      "text/html": [
       "<div>\n",
       "<style scoped>\n",
       "    .dataframe tbody tr th:only-of-type {\n",
       "        vertical-align: middle;\n",
       "    }\n",
       "\n",
       "    .dataframe tbody tr th {\n",
       "        vertical-align: top;\n",
       "    }\n",
       "\n",
       "    .dataframe thead th {\n",
       "        text-align: right;\n",
       "    }\n",
       "</style>\n",
       "<table border=\"1\" class=\"dataframe\">\n",
       "  <thead>\n",
       "    <tr style=\"text-align: right;\">\n",
       "      <th></th>\n",
       "      <th>movieId</th>\n",
       "      <th>userId</th>\n",
       "      <th>rating</th>\n",
       "      <th>timestamp</th>\n",
       "      <th>label</th>\n",
       "      <th>releaseYear</th>\n",
       "      <th>movieGenre1</th>\n",
       "      <th>movieGenre2</th>\n",
       "      <th>movieGenre3</th>\n",
       "      <th>movieRatingCount</th>\n",
       "      <th>...</th>\n",
       "      <th>userRatingCount</th>\n",
       "      <th>userAvgReleaseYear</th>\n",
       "      <th>userReleaseYearStddev</th>\n",
       "      <th>userAvgRating</th>\n",
       "      <th>userRatingStddev</th>\n",
       "      <th>userGenre1</th>\n",
       "      <th>userGenre2</th>\n",
       "      <th>userGenre3</th>\n",
       "      <th>userGenre4</th>\n",
       "      <th>userGenre5</th>\n",
       "    </tr>\n",
       "  </thead>\n",
       "  <tbody>\n",
       "    <tr>\n",
       "      <th>0</th>\n",
       "      <td>1</td>\n",
       "      <td>15555</td>\n",
       "      <td>3.0</td>\n",
       "      <td>900953740</td>\n",
       "      <td>0</td>\n",
       "      <td>1995</td>\n",
       "      <td>Adventure</td>\n",
       "      <td>Animation</td>\n",
       "      <td>Children</td>\n",
       "      <td>10759</td>\n",
       "      <td>...</td>\n",
       "      <td>92</td>\n",
       "      <td>1992</td>\n",
       "      <td>8.98</td>\n",
       "      <td>3.86</td>\n",
       "      <td>0.74</td>\n",
       "      <td>Drama</td>\n",
       "      <td>Comedy</td>\n",
       "      <td>Thriller</td>\n",
       "      <td>Action</td>\n",
       "      <td>Crime</td>\n",
       "    </tr>\n",
       "    <tr>\n",
       "      <th>1</th>\n",
       "      <td>1</td>\n",
       "      <td>25912</td>\n",
       "      <td>3.5</td>\n",
       "      <td>1111631768</td>\n",
       "      <td>1</td>\n",
       "      <td>1995</td>\n",
       "      <td>Adventure</td>\n",
       "      <td>Animation</td>\n",
       "      <td>Children</td>\n",
       "      <td>10759</td>\n",
       "      <td>...</td>\n",
       "      <td>21</td>\n",
       "      <td>1988</td>\n",
       "      <td>14.09</td>\n",
       "      <td>3.48</td>\n",
       "      <td>1.28</td>\n",
       "      <td>Action</td>\n",
       "      <td>Comedy</td>\n",
       "      <td>Romance</td>\n",
       "      <td>Adventure</td>\n",
       "      <td>Thriller</td>\n",
       "    </tr>\n",
       "    <tr>\n",
       "      <th>2</th>\n",
       "      <td>1</td>\n",
       "      <td>29912</td>\n",
       "      <td>3.0</td>\n",
       "      <td>866820360</td>\n",
       "      <td>0</td>\n",
       "      <td>1995</td>\n",
       "      <td>Adventure</td>\n",
       "      <td>Animation</td>\n",
       "      <td>Children</td>\n",
       "      <td>10759</td>\n",
       "      <td>...</td>\n",
       "      <td>4</td>\n",
       "      <td>1995</td>\n",
       "      <td>0.50</td>\n",
       "      <td>3.00</td>\n",
       "      <td>0.00</td>\n",
       "      <td>NaN</td>\n",
       "      <td>NaN</td>\n",
       "      <td>NaN</td>\n",
       "      <td>NaN</td>\n",
       "      <td>NaN</td>\n",
       "    </tr>\n",
       "    <tr>\n",
       "      <th>3</th>\n",
       "      <td>10</td>\n",
       "      <td>17686</td>\n",
       "      <td>0.5</td>\n",
       "      <td>1195555011</td>\n",
       "      <td>0</td>\n",
       "      <td>1995</td>\n",
       "      <td>Action</td>\n",
       "      <td>Adventure</td>\n",
       "      <td>Thriller</td>\n",
       "      <td>6330</td>\n",
       "      <td>...</td>\n",
       "      <td>35</td>\n",
       "      <td>1992</td>\n",
       "      <td>8.35</td>\n",
       "      <td>2.97</td>\n",
       "      <td>1.48</td>\n",
       "      <td>Comedy</td>\n",
       "      <td>Drama</td>\n",
       "      <td>Adventure</td>\n",
       "      <td>Action</td>\n",
       "      <td>Thriller</td>\n",
       "    </tr>\n",
       "    <tr>\n",
       "      <th>4</th>\n",
       "      <td>104</td>\n",
       "      <td>20158</td>\n",
       "      <td>4.0</td>\n",
       "      <td>1155357691</td>\n",
       "      <td>1</td>\n",
       "      <td>1996</td>\n",
       "      <td>Comedy</td>\n",
       "      <td>NaN</td>\n",
       "      <td>NaN</td>\n",
       "      <td>3954</td>\n",
       "      <td>...</td>\n",
       "      <td>81</td>\n",
       "      <td>1991</td>\n",
       "      <td>8.70</td>\n",
       "      <td>3.60</td>\n",
       "      <td>0.72</td>\n",
       "      <td>Thriller</td>\n",
       "      <td>Drama</td>\n",
       "      <td>Action</td>\n",
       "      <td>Crime</td>\n",
       "      <td>Adventure</td>\n",
       "    </tr>\n",
       "  </tbody>\n",
       "</table>\n",
       "<p>5 rows × 27 columns</p>\n",
       "</div>"
      ],
      "text/plain": [
       "   movieId  userId  rating   timestamp  label  releaseYear movieGenre1  \\\n",
       "0        1   15555     3.0   900953740      0         1995   Adventure   \n",
       "1        1   25912     3.5  1111631768      1         1995   Adventure   \n",
       "2        1   29912     3.0   866820360      0         1995   Adventure   \n",
       "3       10   17686     0.5  1195555011      0         1995      Action   \n",
       "4      104   20158     4.0  1155357691      1         1996      Comedy   \n",
       "\n",
       "  movieGenre2 movieGenre3  movieRatingCount  ...  userRatingCount  \\\n",
       "0   Animation    Children             10759  ...               92   \n",
       "1   Animation    Children             10759  ...               21   \n",
       "2   Animation    Children             10759  ...                4   \n",
       "3   Adventure    Thriller              6330  ...               35   \n",
       "4         NaN         NaN              3954  ...               81   \n",
       "\n",
       "   userAvgReleaseYear  userReleaseYearStddev  userAvgRating  userRatingStddev  \\\n",
       "0                1992                   8.98           3.86              0.74   \n",
       "1                1988                  14.09           3.48              1.28   \n",
       "2                1995                   0.50           3.00              0.00   \n",
       "3                1992                   8.35           2.97              1.48   \n",
       "4                1991                   8.70           3.60              0.72   \n",
       "\n",
       "   userGenre1  userGenre2  userGenre3  userGenre4  userGenre5  \n",
       "0       Drama      Comedy    Thriller      Action       Crime  \n",
       "1      Action      Comedy     Romance   Adventure    Thriller  \n",
       "2         NaN         NaN         NaN         NaN         NaN  \n",
       "3      Comedy       Drama   Adventure      Action    Thriller  \n",
       "4    Thriller       Drama      Action       Crime   Adventure  \n",
       "\n",
       "[5 rows x 27 columns]"
      ]
     },
     "execution_count": 2,
     "metadata": {},
     "output_type": "execute_result"
    }
   ],
   "source": [
    "import pandas as pd\n",
    "pd.read_csv(training_samples_file_path).head(5)"
   ]
  },
  {
   "cell_type": "code",
   "execution_count": 3,
   "id": "f50837ce-ceb0-4641-bf2d-d3e564a9c522",
   "metadata": {},
   "outputs": [
    {
     "name": "stdout",
     "output_type": "stream",
     "text": [
      "WARNING:tensorflow:From /opt/conda/lib/python3.11/site-packages/tensorflow/python/data/experimental/ops/readers.py:573: ignore_errors (from tensorflow.python.data.experimental.ops.error_ops) is deprecated and will be removed in a future version.\n",
      "Instructions for updating:\n",
      "Use `tf.data.Dataset.ignore_errors` instead.\n"
     ]
    }
   ],
   "source": [
    "# load sample as tf dataset\n",
    "def get_dataset(file_path):\n",
    "    dataset = tf.data.experimental.make_csv_dataset(\n",
    "        file_path,\n",
    "        batch_size=12,\n",
    "        label_name='label',\n",
    "        na_value=\"0\",\n",
    "        num_epochs=1,\n",
    "        ignore_errors=True)\n",
    "    return dataset\n",
    "\n",
    "# split as test dataset and training dataset\n",
    "train_dataset = get_dataset(training_samples_file_path)\n",
    "test_dataset = get_dataset(test_samples_file_path)"
   ]
  },
  {
   "cell_type": "code",
   "execution_count": 4,
   "id": "d516c409-89b2-463c-a72f-1530888a965b",
   "metadata": {},
   "outputs": [
    {
     "name": "stdout",
     "output_type": "stream",
     "text": [
      "WARNING:tensorflow:From /tmp/ipykernel_4384/901808013.py:2: categorical_column_with_identity (from tensorflow.python.feature_column.feature_column_v2) is deprecated and will be removed in a future version.\n",
      "Instructions for updating:\n",
      "Use Keras preprocessing layers instead, either directly or via the `tf.keras.utils.FeatureSpace` utility. Each of `tf.feature_column.*` has a functional equivalent in `tf.keras.layers` for feature preprocessing when training a Keras model.\n",
      "WARNING:tensorflow:From /tmp/ipykernel_4384/901808013.py:3: embedding_column (from tensorflow.python.feature_column.feature_column_v2) is deprecated and will be removed in a future version.\n",
      "Instructions for updating:\n",
      "Use Keras preprocessing layers instead, either directly or via the `tf.keras.utils.FeatureSpace` utility. Each of `tf.feature_column.*` has a functional equivalent in `tf.keras.layers` for feature preprocessing when training a Keras model.\n"
     ]
    }
   ],
   "source": [
    "# movie id embedding feature\n",
    "movie_col = tf.feature_column.categorical_column_with_identity(key='movieId', num_buckets=1001)\n",
    "movie_emb_col = tf.feature_column.embedding_column(movie_col, 10)\n",
    "\n",
    "# user id embedding feature\n",
    "user_col = tf.feature_column.categorical_column_with_identity(key='userId', num_buckets=30001)\n",
    "user_emb_col = tf.feature_column.embedding_column(user_col, 10)"
   ]
  },
  {
   "cell_type": "code",
   "execution_count": 5,
   "id": "f4c076c2-e6e1-4ef3-8aa5-23bde0beba53",
   "metadata": {},
   "outputs": [],
   "source": [
    "# define input for keras model\n",
    "inputs = {\n",
    "    'movieId': tf.keras.layers.Input(name='movieId', shape=(), dtype='int32'),\n",
    "    'userId': tf.keras.layers.Input(name='userId', shape=(), dtype='int32'),\n",
    "}"
   ]
  },
  {
   "cell_type": "code",
   "execution_count": 6,
   "id": "bc4a95e3-2662-49f9-b704-833809e75a13",
   "metadata": {},
   "outputs": [],
   "source": [
    "# neural cf model arch two. only embedding in each tower, then MLP as the interaction layers\n",
    "def neural_cf_model_1(feature_inputs, item_feature_columns, user_feature_columns, hidden_units):\n",
    "    item_tower = tf.keras.layers.DenseFeatures(item_feature_columns)(feature_inputs)\n",
    "    user_tower = tf.keras.layers.DenseFeatures(user_feature_columns)(feature_inputs)\n",
    "    interact_layer = tf.keras.layers.concatenate([item_tower, user_tower])\n",
    "    for num_nodes in hidden_units:\n",
    "        interact_layer = tf.keras.layers.Dense(num_nodes, activation='relu')(interact_layer)\n",
    "    output_layer = tf.keras.layers.Dense(1, activation='sigmoid')(interact_layer)\n",
    "    neural_cf_model = tf.keras.Model(feature_inputs, output_layer)\n",
    "    return neural_cf_model"
   ]
  },
  {
   "cell_type": "code",
   "execution_count": 7,
   "id": "b3313cbc-a6a3-4d28-949b-032bf7ba7170",
   "metadata": {},
   "outputs": [],
   "source": [
    "# neural cf model arch one. embedding+MLP in each tower, then dot product layer as the output\n",
    "def neural_cf_model_2(feature_inputs, item_feature_columns, user_feature_columns, hidden_units):\n",
    "    item_tower = tf.keras.layers.DenseFeatures(item_feature_columns)(feature_inputs)\n",
    "    for num_nodes in hidden_units:\n",
    "        item_tower = tf.keras.layers.Dense(num_nodes, activation='relu')(item_tower)\n",
    "\n",
    "    user_tower = tf.keras.layers.DenseFeatures(user_feature_columns)(feature_inputs)\n",
    "    for num_nodes in hidden_units:\n",
    "        user_tower = tf.keras.layers.Dense(num_nodes, activation='relu')(user_tower)\n",
    "\n",
    "    output = tf.keras.layers.Dot(axes=1)([item_tower, user_tower])\n",
    "    output = tf.keras.layers.Dense(1, activation='sigmoid')(output)\n",
    "\n",
    "    neural_cf_model = tf.keras.Model(feature_inputs, output)\n",
    "    return neural_cf_model"
   ]
  },
  {
   "cell_type": "code",
   "execution_count": 8,
   "id": "c50d23e8-9b93-413a-844c-410a325f2521",
   "metadata": {},
   "outputs": [],
   "source": [
    "# neural cf model architecture\n",
    "model = neural_cf_model_1(inputs, [movie_emb_col], [user_emb_col], [10, 10])\n",
    "\n",
    "# compile the model, set loss function, optimizer and evaluation metrics\n",
    "model.compile(\n",
    "    loss='binary_crossentropy',\n",
    "    optimizer='adam',\n",
    "    metrics=['accuracy', tf.keras.metrics.AUC(curve='ROC'), tf.keras.metrics.AUC(curve='PR')])"
   ]
  },
  {
   "cell_type": "code",
   "execution_count": 9,
   "id": "9b8b7d6d-0404-4da1-8bde-6e94a7404085",
   "metadata": {},
   "outputs": [
    {
     "name": "stdout",
     "output_type": "stream",
     "text": [
      "Epoch 1/5\n"
     ]
    },
    {
     "name": "stderr",
     "output_type": "stream",
     "text": [
      "/opt/conda/lib/python3.11/site-packages/keras/src/engine/functional.py:642: UserWarning: Input dict contained keys ['rating', 'timestamp', 'releaseYear', 'movieGenre1', 'movieGenre2', 'movieGenre3', 'movieRatingCount', 'movieAvgRating', 'movieRatingStddev', 'userRatedMovie1', 'userRatedMovie2', 'userRatedMovie3', 'userRatedMovie4', 'userRatedMovie5', 'userRatingCount', 'userAvgReleaseYear', 'userReleaseYearStddev', 'userAvgRating', 'userRatingStddev', 'userGenre1', 'userGenre2', 'userGenre3', 'userGenre4', 'userGenre5'] which did not match any model input. They will be ignored by the model.\n",
      "  inputs = self._flatten_to_reference_inputs(inputs)\n"
     ]
    },
    {
     "name": "stdout",
     "output_type": "stream",
     "text": [
      "7403/7403 [==============================] - 33s 4ms/step - loss: 0.6254 - accuracy: 0.6397 - auc: 0.6926 - auc_1: 0.7378\n",
      "Epoch 2/5\n",
      "7403/7403 [==============================] - 32s 4ms/step - loss: 0.5702 - accuracy: 0.7046 - auc: 0.7672 - auc_1: 0.7965\n",
      "Epoch 3/5\n",
      "7403/7403 [==============================] - 32s 4ms/step - loss: 0.5174 - accuracy: 0.7460 - auc: 0.8172 - auc_1: 0.8431\n",
      "Epoch 4/5\n",
      "7403/7403 [==============================] - 31s 4ms/step - loss: 0.4695 - accuracy: 0.7755 - auc: 0.8542 - auc_1: 0.8778\n",
      "Epoch 5/5\n",
      "7403/7403 [==============================] - 32s 4ms/step - loss: 0.4279 - accuracy: 0.8026 - auc: 0.8815 - auc_1: 0.9025\n",
      "1870/1870 [==============================] - 4s 2ms/step - loss: 0.6829 - accuracy: 0.6670 - auc: 0.7209 - auc_1: 0.7484\n",
      "\n",
      "\n",
      "Test Loss 0.6829220652580261, Test Accuracy 0.6670231819152832, Test ROC AUC 0.7208721041679382, Test PR AUC 0.7484422922134399\n"
     ]
    }
   ],
   "source": [
    "# train the model\n",
    "model.fit(train_dataset, epochs=5)\n",
    "\n",
    "# evaluate the model\n",
    "test_loss, test_accuracy, test_roc_auc, test_pr_auc = model.evaluate(test_dataset)\n",
    "print('\\n\\nTest Loss {}, Test Accuracy {}, Test ROC AUC {}, Test PR AUC {}'.format(test_loss, test_accuracy,\n",
    "                                                                                   test_roc_auc, test_pr_auc))"
   ]
  },
  {
   "cell_type": "code",
   "execution_count": 10,
   "id": "7889f922-f3df-4011-a1f8-4a3b6dfa1bad",
   "metadata": {},
   "outputs": [
    {
     "name": "stdout",
     "output_type": "stream",
     "text": [
      "1870/1870 [==============================] - 3s 1ms/step\n",
      "Predicted good rating: 90.41%  | Actual rating label:  Good Rating\n",
      "Predicted good rating: 30.63%  | Actual rating label:  Good Rating\n",
      "Predicted good rating: 10.21%  | Actual rating label:  Good Rating\n",
      "Predicted good rating: 33.85%  | Actual rating label:  Good Rating\n",
      "Predicted good rating: 53.25%  | Actual rating label:  Good Rating\n",
      "Predicted good rating: 55.84%  | Actual rating label:  Bad Rating\n",
      "Predicted good rating: 61.51%  | Actual rating label:  Good Rating\n",
      "Predicted good rating: 78.06%  | Actual rating label:  Good Rating\n",
      "Predicted good rating: 93.02%  | Actual rating label:  Good Rating\n",
      "Predicted good rating: 21.47%  | Actual rating label:  Good Rating\n",
      "Predicted good rating: 59.68%  | Actual rating label:  Good Rating\n",
      "Predicted good rating: 64.44%  | Actual rating label:  Good Rating\n"
     ]
    }
   ],
   "source": [
    "# print some predict results\n",
    "predictions = model.predict(test_dataset)\n",
    "for prediction, goodRating in zip(predictions[:12], list(test_dataset)[0][1][:12]):\n",
    "    print(\"Predicted good rating: {:.2%}\".format(prediction[0]),\n",
    "          \" | Actual rating label: \",\n",
    "          (\"Good Rating\" if bool(goodRating) else \"Bad Rating\"))"
   ]
  },
  {
   "cell_type": "code",
   "execution_count": 14,
   "id": "194a56c4-1efe-4b4b-b5ff-6b56df72a822",
   "metadata": {},
   "outputs": [
    {
     "name": "stdout",
     "output_type": "stream",
     "text": [
      "INFO:tensorflow:Assets written to: model/NeuralCF/assets\n"
     ]
    },
    {
     "name": "stderr",
     "output_type": "stream",
     "text": [
      "INFO:tensorflow:Assets written to: model/NeuralCF/assets\n"
     ]
    }
   ],
   "source": [
    "model.save(\"model/NeuralCF\")"
   ]
  },
  {
   "cell_type": "code",
   "execution_count": null,
   "id": "8fb653b4-1bdd-4d0b-880e-19914fe31609",
   "metadata": {},
   "outputs": [],
   "source": []
  }
 ],
 "metadata": {
  "kernelspec": {
   "display_name": "Python 3 (ipykernel)",
   "language": "python",
   "name": "python3"
  },
  "language_info": {
   "codemirror_mode": {
    "name": "ipython",
    "version": 3
   },
   "file_extension": ".py",
   "mimetype": "text/x-python",
   "name": "python",
   "nbconvert_exporter": "python",
   "pygments_lexer": "ipython3",
   "version": "3.11.8"
  }
 },
 "nbformat": 4,
 "nbformat_minor": 5
}
