{
 "cells": [
  {
   "cell_type": "markdown",
   "id": "6abbdad6-28f0-4491-acae-a5f4682a8686",
   "metadata": {},
   "source": [
    "### Download trainning and test data"
   ]
  },
  {
   "cell_type": "code",
   "execution_count": null,
   "id": "ecda4dd7-08bc-4cf4-a311-438a4c71f130",
   "metadata": {},
   "outputs": [],
   "source": [
    "import tensorflow as tf\n",
    "\n",
    "training_samples_file_path = tf.keras.utils.get_file(\"trainingSamples.csv\",\n",
    "                                                     \"https://raw.githubusercontent.com/dream-365/SparrowRecSys/master/src/main/\"\n",
    "                                                     \"resources/webroot/sampledata/trainingSamples.csv\")\n",
    "\n",
    "test_samples_file_path = tf.keras.utils.get_file(\"testSamples.csv\",\n",
    "                                                 \"https://raw.githubusercontent.com/dream-365/SparrowRecSys/master/src/main/\"\n",
    "                                                 \"resources/webroot/sampledata/testSamples.csv\")\n"
   ]
  },
  {
   "cell_type": "markdown",
   "id": "dbb7af9b-1768-42ea-ba11-5ccc5c7d82c9",
   "metadata": {},
   "source": [
    "### Traning data preview"
   ]
  },
  {
   "cell_type": "code",
   "execution_count": null,
   "id": "cf9a20b3-b675-44f1-91d3-bd5c0b1266ba",
   "metadata": {},
   "outputs": [],
   "source": [
    "import pandas as pd\n",
    "pd.read_csv(training_samples_file_path).head(5)"
   ]
  },
  {
   "cell_type": "code",
   "execution_count": null,
   "id": "f50837ce-ceb0-4641-bf2d-d3e564a9c522",
   "metadata": {},
   "outputs": [],
   "source": [
    "# load sample as tf dataset\n",
    "def get_dataset(file_path):\n",
    "    dataset = tf.data.experimental.make_csv_dataset(\n",
    "        file_path,\n",
    "        batch_size=12,\n",
    "        label_name='label',\n",
    "        na_value=\"0\",\n",
    "        num_epochs=1,\n",
    "        ignore_errors=True)\n",
    "    return dataset\n",
    "\n",
    "# split as test dataset and training dataset\n",
    "train_dataset = get_dataset(training_samples_file_path)\n",
    "test_dataset = get_dataset(test_samples_file_path)"
   ]
  },
  {
   "cell_type": "code",
   "execution_count": null,
   "id": "d516c409-89b2-463c-a72f-1530888a965b",
   "metadata": {},
   "outputs": [],
   "source": [
    "# movie id embedding feature\n",
    "movie_col = tf.feature_column.categorical_column_with_identity(key='movieId', num_buckets=1001)\n",
    "movie_emb_col = tf.feature_column.embedding_column(movie_col, 10)\n",
    "\n",
    "# user id embedding feature\n",
    "user_col = tf.feature_column.categorical_column_with_identity(key='userId', num_buckets=30001)\n",
    "user_emb_col = tf.feature_column.embedding_column(user_col, 10)"
   ]
  },
  {
   "cell_type": "code",
   "execution_count": null,
   "id": "f4c076c2-e6e1-4ef3-8aa5-23bde0beba53",
   "metadata": {},
   "outputs": [],
   "source": [
    "# define input for keras model\n",
    "inputs = {\n",
    "    'movieId': tf.keras.layers.Input(name='movieId', shape=(), dtype='int32'),\n",
    "    'userId': tf.keras.layers.Input(name='userId', shape=(), dtype='int32'),\n",
    "}"
   ]
  },
  {
   "cell_type": "code",
   "execution_count": null,
   "id": "bc4a95e3-2662-49f9-b704-833809e75a13",
   "metadata": {},
   "outputs": [],
   "source": [
    "# neural cf model arch two. only embedding in each tower, then MLP as the interaction layers\n",
    "def neural_cf_model_1(feature_inputs, item_feature_columns, user_feature_columns, hidden_units):\n",
    "    item_tower = tf.keras.layers.DenseFeatures(item_feature_columns)(feature_inputs)\n",
    "    user_tower = tf.keras.layers.DenseFeatures(user_feature_columns)(feature_inputs)\n",
    "    interact_layer = tf.keras.layers.concatenate([item_tower, user_tower])\n",
    "    for num_nodes in hidden_units:\n",
    "        interact_layer = tf.keras.layers.Dense(num_nodes, activation='relu')(interact_layer)\n",
    "    output_layer = tf.keras.layers.Dense(1, activation='sigmoid')(interact_layer)\n",
    "    neural_cf_model = tf.keras.Model(feature_inputs, output_layer)\n",
    "    return neural_cf_model"
   ]
  },
  {
   "cell_type": "code",
   "execution_count": null,
   "id": "b3313cbc-a6a3-4d28-949b-032bf7ba7170",
   "metadata": {},
   "outputs": [],
   "source": [
    "# neural cf model arch one. embedding+MLP in each tower, then dot product layer as the output\n",
    "def neural_cf_model_2(feature_inputs, item_feature_columns, user_feature_columns, hidden_units):\n",
    "    item_tower = tf.keras.layers.DenseFeatures(item_feature_columns)(feature_inputs)\n",
    "    for num_nodes in hidden_units:\n",
    "        item_tower = tf.keras.layers.Dense(num_nodes, activation='relu')(item_tower)\n",
    "\n",
    "    user_tower = tf.keras.layers.DenseFeatures(user_feature_columns)(feature_inputs)\n",
    "    for num_nodes in hidden_units:\n",
    "        user_tower = tf.keras.layers.Dense(num_nodes, activation='relu')(user_tower)\n",
    "\n",
    "    output = tf.keras.layers.Dot(axes=1)([item_tower, user_tower])\n",
    "    output = tf.keras.layers.Dense(1, activation='sigmoid')(output)\n",
    "\n",
    "    neural_cf_model = tf.keras.Model(feature_inputs, output)\n",
    "    return neural_cf_model"
   ]
  },
  {
   "cell_type": "code",
   "execution_count": null,
   "id": "c50d23e8-9b93-413a-844c-410a325f2521",
   "metadata": {},
   "outputs": [],
   "source": [
    "# neural cf model architecture\n",
    "model = neural_cf_model_1(inputs, [movie_emb_col], [user_emb_col], [10, 10])\n",
    "\n",
    "# compile the model, set loss function, optimizer and evaluation metrics\n",
    "model.compile(\n",
    "    loss='binary_crossentropy',\n",
    "    optimizer='adam',\n",
    "    metrics=['accuracy', tf.keras.metrics.AUC(curve='ROC'), tf.keras.metrics.AUC(curve='PR')])"
   ]
  },
  {
   "cell_type": "code",
   "execution_count": null,
   "id": "9b8b7d6d-0404-4da1-8bde-6e94a7404085",
   "metadata": {},
   "outputs": [],
   "source": [
    "# train the model\n",
    "model.fit(train_dataset, epochs=5)\n",
    "\n",
    "# evaluate the model\n",
    "test_loss, test_accuracy, test_roc_auc, test_pr_auc = model.evaluate(test_dataset)\n",
    "print('\\n\\nTest Loss {}, Test Accuracy {}, Test ROC AUC {}, Test PR AUC {}'.format(test_loss, test_accuracy,\n",
    "                                                                                   test_roc_auc, test_pr_auc))"
   ]
  },
  {
   "cell_type": "code",
   "execution_count": null,
   "id": "7889f922-f3df-4011-a1f8-4a3b6dfa1bad",
   "metadata": {},
   "outputs": [],
   "source": [
    "# print some predict results\n",
    "predictions = model.predict(test_dataset)\n",
    "for prediction, goodRating in zip(predictions[:12], list(test_dataset)[0][1][:12]):\n",
    "    print(\"Predicted good rating: {:.2%}\".format(prediction[0]),\n",
    "          \" | Actual rating label: \",\n",
    "          (\"Good Rating\" if bool(goodRating) else \"Bad Rating\"))"
   ]
  },
  {
   "cell_type": "code",
   "execution_count": null,
   "id": "194a56c4-1efe-4b4b-b5ff-6b56df72a822",
   "metadata": {},
   "outputs": [],
   "source": []
  }
 ],
 "metadata": {
  "kernelspec": {
   "display_name": "Python 3 (ipykernel)",
   "language": "python",
   "name": "python3"
  },
  "language_info": {
   "codemirror_mode": {
    "name": "ipython",
    "version": 3
   },
   "file_extension": ".py",
   "mimetype": "text/x-python",
   "name": "python",
   "nbconvert_exporter": "python",
   "pygments_lexer": "ipython3",
   "version": "3.10.13"
  }
 },
 "nbformat": 4,
 "nbformat_minor": 5
}
