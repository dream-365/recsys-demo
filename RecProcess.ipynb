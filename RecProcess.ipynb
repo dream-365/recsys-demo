{
 "cells": [
  {
   "cell_type": "markdown",
   "id": "63ef6cc4-3d5f-4f33-ad33-b3f13a558b83",
   "metadata": {},
   "source": [
    "### Recall"
   ]
  },
  {
   "cell_type": "code",
   "execution_count": null,
   "id": "781b8b1e-2391-4a64-939a-2c6b26f8e7cb",
   "metadata": {},
   "outputs": [],
   "source": [
    "def load_embeddings(file_path):\n",
    "    \"\"\"\n",
    "    从给定路径的文件中加载嵌入向量，并将它们存储在字典中。\n",
    "\n",
    "    :param file_path: 带有嵌入向量的文件的路径\n",
    "    :return: 字典，其中键是item_id，值是对应的向量列表\n",
    "    \"\"\"\n",
    "    # 创建一个空字典来存储item_id和相应的向量\n",
    "    embeddings = {}\n",
    "    # 打开文件进行读取\n",
    "    with open(file_path, 'r') as file:\n",
    "        # 按行读取数据\n",
    "        for line in file:\n",
    "            # 移除行尾的换行符和额外的空格，并按\":\"进行分割\n",
    "            item_id, vector_str = line.strip().split(':')\n",
    "            # 将字符串形式的向量转换为浮点数列表\n",
    "            vector = [float(x) for x in vector_str.split()]\n",
    "            # 将item_id和向量添加到字典中\n",
    "            embeddings[item_id] = vector\n",
    "            \n",
    "    return embeddings"
   ]
  },
  {
   "cell_type": "code",
   "execution_count": null,
   "id": "3514389c-65fb-4e3c-9ed4-85c91d1749ef",
   "metadata": {},
   "outputs": [],
   "source": [
    "file_path = 'emb/item2vecEmb.csv'\n",
    "item_embeddings = load_embeddings(file_path)"
   ]
  },
  {
   "cell_type": "code",
   "execution_count": null,
   "id": "6f9db22e-557f-4673-b549-2d2bfafef1f1",
   "metadata": {},
   "outputs": [],
   "source": [
    "import numpy as np\n",
    "\n",
    "def recallCandidates(user_vector, embedding_matrix, item_ids, top_n):\n",
    "    \"\"\"\n",
    "    根据用户向量和项目嵌入矩阵来回调最相似的top n个项目。\n",
    "\n",
    "    :param user_vector: 一维数组，表示用户的向量\n",
    "    :param embedding_matrix: 二维数组，其中每行代表一个项目的嵌入向量\n",
    "    :param item_ids: 列表数据，包含与embedding_matrix中行顺序相对应的项目ID\n",
    "    :param top_n: 整型数据，指定需要返回的最相似项目的数量\n",
    "\n",
    "    :return: 包含Top n候选项目的item_ids和它们的余弦相似度得分的列表\n",
    "    \"\"\"\n",
    "    \n",
    "    # 确认用户向量和项目向量的维度匹配\n",
    "    assert user_vector.size == embedding_matrix.shape[1]\n",
    "    \n",
    "    # 计算用户向量与所有项目向量的点积\n",
    "    dot_product = np.dot(embedding_matrix, user_vector)\n",
    "    \n",
    "    # 计算用户向量和所有项目向量的模长\n",
    "    user_vector_length = np.linalg.norm(user_vector)\n",
    "    item_vector_lengths = np.linalg.norm(embedding_matrix, axis=1)\n",
    "    \n",
    "    # 计算余弦相似度\n",
    "    cosine_similarity = dot_product / (user_vector_length * item_vector_lengths)\n",
    "    \n",
    "    # 获取相似度最高的前top_n个项目的索引\n",
    "    top_n_indices = np.argsort(-cosine_similarity)[:top_n]\n",
    "    \n",
    "    # 获取对应的余弦相似度得分\n",
    "    top_n_cosine_similarity_scores = cosine_similarity[top_n_indices]\n",
    "    \n",
    "    # 根据索引获取对应的item_id\n",
    "    top_n_item_ids = [item_ids[i] for i in top_n_indices]\n",
    "    \n",
    "    # 结合item_id和它们的余弦相似度得分\n",
    "    top_n_candidates = [(item_ids[index], score) for index, score in zip(top_n_indices, top_n_cosine_similarity_scores)]\n",
    "    \n",
    "    return top_n_candidates\n",
    "\n",
    "# 使用示例\n",
    "# item_ids = ... # 从中获取你的item_ids的代码\n",
    "# user_vector = ... # 用户的向量\n",
    "# embedding_matrix = ... # 嵌入矩阵\n",
    "# top_n = 10 # 想要回调的候选项目数量\n",
    "\n",
    "# 假设item_ids和embedding_matrix已通过某种方式得到\n",
    "# 可以调用recallCandidates函数获得结果\n",
    "top_n =10\n",
    "user_vector = np.array([0.1, 0.3, 0.5, 0.1, 0.3, 0.5, 0.1, 0.3, 0.5, 0.1])  # 示例用户向量\n",
    "embedding_matrix = np.array(list(item_embeddings.values()))\n",
    "item_ids = list(item_embeddings.keys())\n",
    "\n",
    "candidates = recallCandidates(user_vector, embedding_matrix, item_ids, top_n)\n",
    "for item_id, cos_sim in candidates:\n",
    "    print(f\"Item ID: {item_id}, Cosine Similarity: {cos_sim}\")"
   ]
  },
  {
   "cell_type": "markdown",
   "id": "c8259014-2334-4851-89d3-8494b7cb075b",
   "metadata": {},
   "source": [
    "### NeuralCF"
   ]
  },
  {
   "cell_type": "code",
   "execution_count": null,
   "id": "e90c6d56-91e8-47ac-ac5f-2b9d7d366c2d",
   "metadata": {},
   "outputs": [],
   "source": [
    "import tensorflow as tf\n",
    "\n",
    "saved_model_path = \"model/NeuralCF\"\n",
    "\n",
    "# 加载模型\n",
    "model = tf.keras.models.load_model(saved_model_path)"
   ]
  },
  {
   "cell_type": "code",
   "execution_count": null,
   "id": "59bf20d4-2189-492d-acc5-efc13c6efa15",
   "metadata": {},
   "outputs": [],
   "source": [
    "# 构建输入字典\n",
    "predict_input = {\n",
    "    'userId': np.array([1]), \n",
    "    'movieId': np.array([1])\n",
    "}\n",
    "\n",
    "# 使用模型进行预测\n",
    "predicted_scores = model.predict(predict_input)\n",
    "print(predicted_scores)"
   ]
  },
  {
   "cell_type": "code",
   "execution_count": null,
   "id": "46104e0b-f98b-47ad-a4d1-48e502a91bcd",
   "metadata": {},
   "outputs": [],
   "source": [
    "user_emb_path = 'emb/item2vecEmb.csv'\n",
    "user_embeddings = load_embeddings(user_emb_path)"
   ]
  },
  {
   "cell_type": "code",
   "execution_count": null,
   "id": "8d26cdab-6367-40f8-b294-c72b0a8584b0",
   "metadata": {},
   "outputs": [],
   "source": [
    "def makePredictInput(user_id, candidates):\n",
    "    \"\"\"\n",
    "    创建模型预测所需的(userId, movieId)对。\n",
    "\n",
    "    :param user_id: int, 需要生成配对的用户ID\n",
    "    :param candidates: list of tuples, 每个元组包含 (movieId, score)\n",
    "    :return: dict, 包含用于模型预测的输入数据，'userId'和'movieId'键的批次数组\n",
    "    \"\"\"\n",
    "    # 提取所有的电影ID\n",
    "    candidate_ids = [candidate[0] for candidate in candidates]\n",
    "    \n",
    "    # 用户ID数组，重复以匹配候选项目的数量\n",
    "    user_ids = [user_id] * len(candidate_ids)\n",
    "\n",
    "    # 构建预测输入字典\n",
    "    predict_input = {\n",
    "        'userId': np.array(user_ids, dtype=np.int32),     # 用户ID数组，int32类型\n",
    "        'movieId': np.array(candidate_ids, dtype=np.int32)  # 电影ID数组，int32类型\n",
    "    }\n",
    "    \n",
    "    return predict_input\n",
    "\n",
    "for user_id in user_embeddings.keys():\n",
    "    user_vector = np.array(user_embeddings[user_id])\n",
    "    candidates = recallCandidates(user_vector, embedding_matrix, item_ids, top_n)\n",
    "    predict_input = makePredictInput(user_id, candidates)\n",
    "    predicted_scores = model.predict(predict_input, verbose=0)\n",
    "    flat_scores = [score[0] for score in predicted_scores]"
   ]
  },
  {
   "cell_type": "code",
   "execution_count": null,
   "id": "cab1b4c8-37ed-4493-91ed-13d4bb331928",
   "metadata": {},
   "outputs": [],
   "source": []
  }
 ],
 "metadata": {
  "kernelspec": {
   "display_name": "Python 3 (ipykernel)",
   "language": "python",
   "name": "python3"
  },
  "language_info": {
   "codemirror_mode": {
    "name": "ipython",
    "version": 3
   },
   "file_extension": ".py",
   "mimetype": "text/x-python",
   "name": "python",
   "nbconvert_exporter": "python",
   "pygments_lexer": "ipython3",
   "version": "3.11.8"
  }
 },
 "nbformat": 4,
 "nbformat_minor": 5
}
